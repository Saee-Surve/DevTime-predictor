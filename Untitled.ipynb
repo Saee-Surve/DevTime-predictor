{
 "cells": [
  {
   "cell_type": "code",
   "execution_count": null,
   "id": "cf6dba82-3eda-411a-af97-6304b741894d",
   "metadata": {},
   "outputs": [
    {
     "name": "stdout",
     "output_type": "stream",
     "text": [
      "Mean Absolute Error: 1435.0546867881396\n",
      "R² Score: 0.703826700159299\n"
     ]
    },
    {
     "data": {
      "text/plain": [
       "['development_time_predictor_model.pkl']"
      ]
     },
     "execution_count": 1,
     "metadata": {},
     "output_type": "execute_result"
    }
   ],
   "source": [
    "import pandas as pd\n",
    "from sklearn.model_selection import train_test_split\n",
    "from sklearn.linear_model import LinearRegression\n",
    "from sklearn.metrics import mean_absolute_error, r2_score\n",
    "from sklearn.preprocessing import StandardScaler\n",
    "\n",
    "data = pd.read_csv('desharnais.csv')  # Update with the actual path if necessary\n",
    "\n",
    "data.fillna(data.median(), inplace=True)\n",
    "\n",
    "features = data.drop(columns=['Effort'])  # Replace 'Effort' with actual target column if different\n",
    "target = data['Effort']\n",
    "\n",
    "features = pd.get_dummies(features, drop_first=True)\n",
    "\n",
    "X_train, X_test, y_train, y_test = train_test_split(features, target, test_size=0.2, random_state=42)\n",
    "\n",
    "scaler = StandardScaler()\n",
    "X_train = scaler.fit_transform(X_train)\n",
    "X_test = scaler.transform(X_test)\n",
    "\n",
    "model = LinearRegression()\n",
    "model.fit(X_train, y_train)\n",
    "\n",
    "y_pred = model.predict(X_test)\n",
    "\n",
    "mae = mean_absolute_error(y_test, y_pred)\n",
    "r2 = r2_score(y_test, y_pred)\n",
    "\n",
    "print(f\"Mean Absolute Error: {mae}\")\n",
    "print(f\"R² Score: {r2}\")\n",
    "\n",
    "# Optional: Save the model for future use\n",
    "import joblib\n",
    "joblib.dump(model, 'development_time_predictor_model.pkl')\n"
   ]
  },
  {
   "cell_type": "code",
   "execution_count": null,
   "id": "16e6ac27-516c-4480-8789-5eefc6f00114",
   "metadata": {},
   "outputs": [],
   "source": []
  }
 ],
 "metadata": {
  "kernelspec": {
   "display_name": "Python 3 (ipykernel)",
   "language": "python",
   "name": "python3"
  },
  "language_info": {
   "codemirror_mode": {
    "name": "ipython",
    "version": 3
   },
   "file_extension": ".py",
   "mimetype": "text/x-python",
   "name": "python",
   "nbconvert_exporter": "python",
   "pygments_lexer": "ipython3",
   "version": "3.12.3"
  },
  "widgets": {
   "application/vnd.jupyter.widget-state+json": {
    "state": {},
    "version_major": 2,
    "version_minor": 0
   }
  }
 },
 "nbformat": 4,
 "nbformat_minor": 5
}
